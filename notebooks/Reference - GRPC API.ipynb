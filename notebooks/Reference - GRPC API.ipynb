{
 "cells": [
  {
   "cell_type": "raw",
   "metadata": {},
   "source": [
    "syntax = \"proto3\";\n",
    "\n",
    "package tensorflow.serving;\n",
    "option cc_enable_arenas = true;\n",
    "\n",
    "import \"tensorflow_serving/apis/classification.proto\";\n",
    "import \"tensorflow_serving/apis/get_model_metadata.proto\";\n",
    "import \"tensorflow_serving/apis/inference.proto\";\n",
    "import \"tensorflow_serving/apis/predict.proto\";\n",
    "import \"tensorflow_serving/apis/regression.proto\";\n",
    "\n",
    "// open source marker; do not remove\n",
    "// PredictionService provides access to machine-learned models loaded by\n",
    "// model_servers.\n",
    "service PredictionService {\n",
    "  // Classify.\n",
    "  rpc Classify(ClassificationRequest) returns (ClassificationResponse);\n",
    "\n",
    "  // Regress.\n",
    "  rpc Regress(RegressionRequest) returns (RegressionResponse);\n",
    "\n",
    "  // Predict -- provides access to loaded TensorFlow model.\n",
    "  rpc Predict(PredictRequest) returns (PredictResponse);\n",
    "\n",
    "  // MultiInference API for multi-headed models.\n",
    "  rpc MultiInference(MultiInferenceRequest) returns (MultiInferenceResponse);\n",
    "\n",
    "  // GetModelMetadata - provides access to metadata for loaded models.\n",
    "  rpc GetModelMetadata(GetModelMetadataRequest)\n",
    "      returns (GetModelMetadataResponse);\n",
    "}"
   ]
  }
 ],
 "metadata": {
  "kernelspec": {
   "display_name": "Python 3",
   "language": "python",
   "name": "python3"
  },
  "language_info": {
   "codemirror_mode": {
    "name": "ipython",
    "version": 3
   },
   "file_extension": ".py",
   "mimetype": "text/x-python",
   "name": "python",
   "nbconvert_exporter": "python",
   "pygments_lexer": "ipython3",
   "version": "3.7.5"
  }
 },
 "nbformat": 4,
 "nbformat_minor": 2
}
